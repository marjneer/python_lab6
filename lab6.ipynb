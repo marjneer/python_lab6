{
 "cells": [
  {
   "cell_type": "code",
   "execution_count": 10,
   "id": "0adb8e3e",
   "metadata": {},
   "outputs": [],
   "source": [
    "import re\n",
    "\n",
    "def form():\n",
    "    name=input(\"Enter your name: \")\n",
    "    pattern1=r'^[A-Za-z\\s]+$'\n",
    "    if not(bool(re.search(pattern1,name))):\n",
    "        print(\"Name should have only alphabets\")\n",
    "        \n",
    "    else:\n",
    "        pnum=input(\"Enter your passport number: \")\n",
    "        pattern2=r'^[A-Za-z0-9]{9}$'\n",
    "        if not(bool(re.search(pattern2,pnum))):\n",
    "            print(\"Passport number should be 9 characters long\")\n",
    "                \n",
    "        else:\n",
    "            phone=input(\"Enter your phone no: \")\n",
    "            pattern3=r'^[0-9]{10}$'\n",
    "            if not(bool(re.search(pattern3,phone))):\n",
    "                print(\"Number should be 10 digits long\")\n",
    "                        \n",
    "            else:\n",
    "                email=input(\"Enter your email address: \")\n",
    "                pattern4=r'^[a-zA-Z0-9._%+-]+@[a-zA-Z0-9.-]+\\.[a-zA-Z]{2,}$'\n",
    "                if not(bool(re.search(pattern4,email))):\n",
    "                                print(\"Invalid email\")\n",
    "                                \n",
    "                else:\n",
    "                    Ddate=input(\"Enter your departure date(dd/mm/yyyy): \")\n",
    "                    pattern5 = r'^(0[1-9]|[12][0-9]|3[01])/(0[1-9]|1[0-2])/([0-9]{4})$'\n",
    "                    if not(bool(re.search(pattern5,Ddate))):\n",
    "                        print(\"Invalid departure date\")\n",
    "                                        \n",
    "                    else:\n",
    "                        pmeth=input(\"Enter your preferred payment method(credit/debit/netbanking): \")\n",
    "                        pattern6 = r'^(credit|debit|netbanking)$'\n",
    "                        if not(bool(re.search(pattern6,pmeth))):\n",
    "                            print(\"Choose one of the three payment methods\")\n",
    "                        else:\n",
    "                            print(\"Form completed\")    "
   ]
  },
  {
   "cell_type": "code",
   "execution_count": 11,
   "id": "ef76fc6d",
   "metadata": {},
   "outputs": [
    {
     "name": "stdout",
     "output_type": "stream",
     "text": [
      "Enter your name: Marita J Neerakan\n",
      "Enter your passport number: 6r4UT8457\n",
      "Enter your phone no: 4875962458\n",
      "Enter your email address: marita@gmail.com\n",
      "Enter your departure date(dd/mm/yyyy): 21/09/2024\n",
      "Enter your preferred payment method(credit/debit/netbanking): netbanking\n",
      "Form completed\n"
     ]
    }
   ],
   "source": [
    "form()"
   ]
  }
 ],
 "metadata": {
  "kernelspec": {
   "display_name": "Python 3 (ipykernel)",
   "language": "python",
   "name": "python3"
  },
  "language_info": {
   "codemirror_mode": {
    "name": "ipython",
    "version": 3
   },
   "file_extension": ".py",
   "mimetype": "text/x-python",
   "name": "python",
   "nbconvert_exporter": "python",
   "pygments_lexer": "ipython3",
   "version": "3.11.4"
  }
 },
 "nbformat": 4,
 "nbformat_minor": 5
}
